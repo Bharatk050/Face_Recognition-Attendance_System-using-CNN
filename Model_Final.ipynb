{
 "cells": [
  {
   "cell_type": "code",
   "execution_count": 1,
   "id": "92db7460-a043-45ac-9e14-af33e41698a6",
   "metadata": {},
   "outputs": [
    {
     "name": "stdout",
     "output_type": "stream",
     "text": [
      "WARNING:tensorflow:From D:\\Python\\Lib\\site-packages\\keras\\src\\losses.py:2976: The name tf.losses.sparse_softmax_cross_entropy is deprecated. Please use tf.compat.v1.losses.sparse_softmax_cross_entropy instead.\n",
      "\n",
      "WARNING:tensorflow:From D:\\Python\\Lib\\site-packages\\tflearn\\__init__.py:5: The name tf.disable_v2_behavior is deprecated. Please use tf.compat.v1.disable_v2_behavior instead.\n",
      "\n",
      "WARNING:tensorflow:From D:\\Python\\Lib\\site-packages\\tensorflow\\python\\compat\\v2_compat.py:108: disable_resource_variables (from tensorflow.python.ops.variable_scope) is deprecated and will be removed in a future version.\n",
      "Instructions for updating:\n",
      "non-resource variables are not supported in the long term\n",
      "curses is not supported on this machine (please install/reinstall curses for an optimal experience)\n",
      "WARNING:tensorflow:From D:\\Python\\Lib\\site-packages\\tflearn\\helpers\\summarizer.py:9: The name tf.summary.merge is deprecated. Please use tf.compat.v1.summary.merge instead.\n",
      "\n"
     ]
    }
   ],
   "source": [
    "import warnings\n",
    "warnings.filterwarnings('ignore')\n",
    "\n",
    "import os\n",
    "import cv2\n",
    "import openpyxl\n",
    "import pandas as pd\n",
    "import matplotlib.pyplot as plt\n",
    "from random import shuffle\n",
    "from mtcnn import MTCNN\n",
    "from tqdm import tqdm\n",
    "import numpy as np\n",
    "import random\n",
    "import tensorflow as tf\n",
    "\n",
    "np.random.seed(42)\n",
    "random.seed(42)\n",
    "tf.random.set_seed(42)\n",
    "\n",
    "from PIL import Image as pil\n",
    "from pkg_resources import parse_version\n",
    "\n",
    "if parse_version(pil.__version__)>=parse_version('10.0.0'):\n",
    "    pil.ANTIALIAS=pil.LANCZOS\n",
    "\n",
    "import tflearn\n",
    "from tflearn.data_augmentation import ImageAugmentation\n",
    "from tflearn.layers.conv import conv_2d, max_pool_2d\n",
    "from tflearn.layers.core import input_data, dropout, fully_connected\n",
    "from tflearn.layers.normalization import batch_normalization\n",
    "from tflearn.layers.estimator import regression"
   ]
  },
  {
   "cell_type": "markdown",
   "id": "4fc8744a-4437-4df3-aa06-d73ede9cdc92",
   "metadata": {},
   "source": [
    "# Face Detection and Dataset Generator"
   ]
  },
  {
   "cell_type": "code",
   "execution_count": 2,
   "id": "9140c08d-fb6b-4ced-a79e-25172f598ac2",
   "metadata": {},
   "outputs": [],
   "source": [
    "def generator():\n",
    "    detector = MTCNN()\n",
    "    cap = cv2.VideoCapture(0)\n",
    "    id = 2\n",
    "    name = \"Anurag\"\n",
    "    img_id = 0\n",
    "    \n",
    "    while True:\n",
    "        ret, frame = cap.read()\n",
    "        if not ret:\n",
    "            print(\"Error: Unable to capture frame from webcam.\")\n",
    "            break\n",
    "        gray = cv2.cvtColor(frame, cv2.COLOR_BGR2GRAY)\n",
    "        rgb_frame = cv2.cvtColor(frame, cv2.COLOR_BGR2RGB)\n",
    "        input_faces = detector.detect_faces(rgb_frame)\n",
    "    \n",
    "        for face in input_faces:\n",
    "            x, y, width, height = face['box']\n",
    "            cropped_face = gray[y:y+height, x:x+width]\n",
    "            img_id += 1\n",
    "            face = cv2.resize(cropped_face, (200, 200))\n",
    "            \n",
    "            file_name_path = f\"DataSet/{name}\" + \".\" + str(id) + \".\"+ str(img_id) + \".jpg\"\n",
    "            # file_name_path = f\"visualization/{name}\" + \".\" + str(id) + \".\"+ str(img_id) + \".jpg\"\n",
    "            \n",
    "            cv2.imwrite(file_name_path, face)\n",
    "            cv2.putText(face, str(img_id), (50, 50), cv2.FONT_HERSHEY_COMPLEX, 1, (0, 255, 0), 2)\n",
    "            \n",
    "            cv2.imshow(\"Face\", face)\n",
    "            \n",
    "            if cv2.waitKey(1) & 0xFF == ord('q'):\n",
    "                break\n",
    "                \n",
    "    cap.release()\n",
    "    cv2.destroyAllWindows()\n",
    "    print(\"DataSet Successfully Generated\")\n",
    "# generator()"
   ]
  },
  {
   "cell_type": "markdown",
   "id": "944bf0b4-c5cd-4bd6-8af7-743928a63a44",
   "metadata": {},
   "source": [
    "# Feature Engineering"
   ]
  },
  {
   "cell_type": "code",
   "execution_count": 3,
   "id": "4f5d491a-82bf-4002-ac2a-4bfb1d5b32db",
   "metadata": {},
   "outputs": [],
   "source": [
    "def my_label(image_name):\n",
    "    name = image_name.split('.')[0]\n",
    "    if name == \"Bharat\":\n",
    "        return np.array([1,0,0])\n",
    "    elif name == \"Anurag\":\n",
    "        return np.array([0,1,0])\n",
    "    elif name == \"Pawan\":\n",
    "        return np.array([0,0,1])\n",
    "        "
   ]
  },
  {
   "cell_type": "code",
   "execution_count": 4,
   "id": "019e07a2-df2c-40ee-84d7-04f391c9506f",
   "metadata": {},
   "outputs": [
    {
     "name": "stderr",
     "output_type": "stream",
     "text": [
      "100%|█████████████████████████████████████████████████████████████████████████████| 3000/3000 [00:04<00:00, 659.99it/s]\n"
     ]
    }
   ],
   "source": [
    "def my_data():\n",
    "    data= []\n",
    "    for img in tqdm(os.listdir(\"DataSet\")):\n",
    "        path = os.path.join(\"DataSet\", img)\n",
    "        img_data = cv2.imread(path, cv2.IMREAD_GRAYSCALE)\n",
    "        img_data = cv2.resize(img_data, (50, 50))\n",
    "        data.append([np.array(img_data), my_label(img)])\n",
    "    shuffle(data)\n",
    "    return data\n",
    "data = my_data()"
   ]
  },
  {
   "cell_type": "markdown",
   "id": "2600a994-00ba-48ac-954d-8694ec09ffb1",
   "metadata": {},
   "source": [
    "# Train and Test Split"
   ]
  },
  {
   "cell_type": "code",
   "execution_count": 5,
   "id": "c3cd79c7-0f18-4944-8abf-88e7c78b3820",
   "metadata": {},
   "outputs": [
    {
     "name": "stderr",
     "output_type": "stream",
     "text": [
      "100%|████████████████████████████████████████████████████████████████████████████| 3000/3000 [00:02<00:00, 1148.97it/s]"
     ]
    },
    {
     "name": "stdout",
     "output_type": "stream",
     "text": [
      "(2400, 50, 50, 1)\n",
      "(600, 50, 50, 1)\n"
     ]
    },
    {
     "name": "stderr",
     "output_type": "stream",
     "text": [
      "\n"
     ]
    }
   ],
   "source": [
    "data = my_data()\n",
    "train = data[:2400]\n",
    "test = data[2400:]\n",
    "X_train = np.array([i[0] for i in train]).reshape(-1,50,50,1)\n",
    "y_train = np.array([i[1] for i in train])\n",
    "X_test = np.array([i[0] for i in test]).reshape(-1,50,50,1)\n",
    "y_test = np.array([i[1] for i in test])\n",
    "print(X_train.shape)\n",
    "print(X_test.shape)"
   ]
  },
  {
   "cell_type": "code",
   "execution_count": 6,
   "id": "db4ae3d3-ba06-4f2c-823b-e8f1dab9806b",
   "metadata": {},
   "outputs": [],
   "source": [
    "# for i in train: print(np.argmax(i[1]))"
   ]
  },
  {
   "cell_type": "markdown",
   "id": "6e3e72bc-3b51-4189-b8b3-1a0831b1528d",
   "metadata": {},
   "source": [
    "# Model"
   ]
  },
  {
   "cell_type": "code",
   "execution_count": 7,
   "id": "d762d25a-b9c2-4650-b99b-02847b99d1da",
   "metadata": {},
   "outputs": [],
   "source": [
    "tf.compat.v1.reset_default_graph()\n",
    "def build_model(img_aug):\n",
    "    convnet = input_data(shape=[50, 50, 1], data_augmentation=img_aug)\n",
    "    \n",
    "    convnet = conv_2d(convnet, 32, 5, activation= 'relu')\n",
    "    convnet = batch_normalization(convnet)\n",
    "    convnet = max_pool_2d(convnet, 5)\n",
    "    convnet = dropout(convnet, 0.5) \n",
    "    \n",
    "    convnet = conv_2d(convnet, 64, 5, activation='relu')\n",
    "    convnet = batch_normalization(convnet)\n",
    "    convnet = max_pool_2d(convnet, 5)\n",
    "    convnet = dropout(convnet, 0.5)\n",
    "    \n",
    "    convnet = conv_2d(convnet, 128, 5, activation='relu')\n",
    "    convnet = batch_normalization(convnet)\n",
    "    convnet = max_pool_2d(convnet, 5)\n",
    "    convnet = dropout(convnet, 0.5)\n",
    "    \n",
    "    convnet = conv_2d(convnet, 64, 5, activation='relu')\n",
    "    convnet = batch_normalization(convnet)\n",
    "    convnet = max_pool_2d(convnet, 5)\n",
    "    convnet = dropout(convnet, 0.5)\n",
    "    \n",
    "    convnet = conv_2d(convnet, 32, 5, activation='relu')\n",
    "    convnet = batch_normalization(convnet)\n",
    "    convnet = max_pool_2d(convnet, 5)\n",
    "    convnet = dropout(convnet, 0.5)\n",
    "    \n",
    "    convnet = fully_connected(convnet, 1024, activation='relu')\n",
    "    convnet = batch_normalization(convnet)\n",
    "    convnet = dropout(convnet, 0.5)\n",
    "    \n",
    "    convnet = fully_connected(convnet, 3, activation='softmax')\n",
    "    \n",
    "    convnet = regression(convnet, optimizer='adam', learning_rate = 0.001, loss='categorical_crossentropy')\n",
    "    \n",
    "    model = tflearn.DNN(convnet, tensorboard_verbose=1)\n",
    "    \n",
    "    return model"
   ]
  },
  {
   "cell_type": "code",
   "execution_count": 8,
   "id": "d34ce2b0-30e6-4bdd-94a0-b348d68cb42b",
   "metadata": {},
   "outputs": [
    {
     "name": "stdout",
     "output_type": "stream",
     "text": [
      "Training Step: 1329  | total loss: \u001b[1m\u001b[32m0.16805\u001b[0m\u001b[0m | time: 6.568s\n",
      "| Adam | epoch: 035 | loss: 0.16805 - acc: 0.9497 -- iter: 2368/2400\n",
      "Training Step: 1330  | total loss: \u001b[1m\u001b[32m0.17997\u001b[0m\u001b[0m | time: 7.744s\n",
      "| Adam | epoch: 035 | loss: 0.17997 - acc: 0.9470 | val_loss: 0.01196 - val_acc: 0.9983 -- iter: 2400/2400\n",
      "--\n"
     ]
    }
   ],
   "source": [
    "# Image Augmentation Settings\n",
    "img_aug = ImageAugmentation()\n",
    "img_aug.add_random_flip_leftright()\n",
    "img_aug.add_random_flip_updown()\n",
    "img_aug.add_random_rotation(max_angle=25.)\n",
    "img_aug.add_random_blur(sigma_max=3.)\n",
    "\n",
    "model = build_model(img_aug=img_aug)\n",
    "model.fit(X_train, y_train, n_epoch=35, validation_set=(X_test, y_test), show_metric = True, run_id=\"Train\" )"
   ]
  },
  {
   "cell_type": "code",
   "execution_count": 9,
   "id": "f8e067c1-d2d3-4993-a076-4a8d3070e0b5",
   "metadata": {},
   "outputs": [],
   "source": [
    "# model.summary()"
   ]
  },
  {
   "cell_type": "markdown",
   "id": "45aaa1ee-a95b-4aca-82b7-353d59ec0274",
   "metadata": {},
   "source": [
    "# Feature Engineering for Predicting "
   ]
  },
  {
   "cell_type": "code",
   "execution_count": 10,
   "id": "b82c5d18-6840-49f7-877e-7721986cc05d",
   "metadata": {},
   "outputs": [],
   "source": [
    "# Validation Image Processing\n",
    "def data_for_visualization():\n",
    "    Vdata = []\n",
    "    for img in tqdm(os.listdir(\"visualization\")):\n",
    "        path = os.path.join(\"visualization\", img)\n",
    "        img_num = img.split('.')[0]\n",
    "        img_data = cv2.imread(path, cv2.IMREAD_GRAYSCALE)\n",
    "        img_data = cv2.resize(img_data, (50,50))\n",
    "        Vdata.append([np.array(img_data), img_num])\n",
    "    shuffle(Vdata)\n",
    "    return Vdata"
   ]
  },
  {
   "cell_type": "code",
   "execution_count": 11,
   "id": "efea11ef-1815-4856-99c9-07fc9619bf84",
   "metadata": {},
   "outputs": [],
   "source": [
    "# Vdata = data_for_visualization()\n",
    "# for i in Vdata:\n",
    "#     print(i)"
   ]
  },
  {
   "cell_type": "code",
   "execution_count": 15,
   "id": "0a42c29a-37d6-4397-85c4-87a30b73b58f",
   "metadata": {},
   "outputs": [],
   "source": [
    "from datetime import date\n",
    "def attendance_update(file_path, name, user_name):\n",
    "    status = None\n",
    "    if user_name == name:\n",
    "        status = 'Present'\n",
    "    else:\n",
    "        status = 'Absent'\n",
    "    \n",
    "    today = date.today()\n",
    "    workbook = openpyxl.load_workbook(file_path)\n",
    "    sheet = workbook.active \n",
    "    # Update a cell value\n",
    "    sheet['A1'] = f'{name}'\n",
    "    sheet['B1'] = status\n",
    "    sheet['C1'] = today\n",
    "    workbook.save(file_path)\n",
    "    print('Updated Excel')"
   ]
  },
  {
   "cell_type": "code",
   "execution_count": 17,
   "id": "7a6d1df4-88a2-4565-9e29-ece72598be84",
   "metadata": {},
   "outputs": [
    {
     "name": "stderr",
     "output_type": "stream",
     "text": [
      "100%|██████████████████████████████████████████████████████████████████████████████████| 1/1 [00:00<00:00, 1031.81it/s]\n"
     ]
    },
    {
     "name": "stdin",
     "output_type": "stream",
     "text": [
      "Enter your name:  Pawan\n"
     ]
    },
    {
     "name": "stdout",
     "output_type": "stream",
     "text": [
      "Updated Excel\n",
      "['Bharat']\n"
     ]
    },
    {
     "data": {
      "image/png": "[encoded data removed]",
      "text/plain": [
       "<Figure size 400x300 with 1 Axes>"
      ]
     },
     "metadata": {},
     "output_type": "display_data"
    }
   ],
   "source": [
    "Vdata = data_for_visualization()\n",
    "\n",
    "file_path = 'Attendance_Log.xlsx'\n",
    "fig = plt.figure(figsize=(4,3))\n",
    "\n",
    "for data in Vdata:\n",
    "    user_name = input(\"Enter your name: \")\n",
    "    img_data = data[0]\n",
    "    new_data = img_data.reshape(50,50,1)\n",
    "    prediction = model.predict([new_data])[0]\n",
    "    # print(prediction)\n",
    "\n",
    "    if np.argmax(prediction) == 0:\n",
    "        name = 'Bharat'\n",
    "    elif np.argmax(prediction) == 1:\n",
    "        name = 'Anurag'\n",
    "    else:\n",
    "        name = 'Pawan'\n",
    "        \n",
    "    attendance_update(file_path, name, user_name)\n",
    "    lst = []\n",
    "    lst.append(name)\n",
    "    print(lst)\n",
    "\n",
    "    plt.imshow(img_data, cmap= 'gray')\n",
    "    plt.title(name)\n",
    "plt.show()    \n"
   ]
  },
  {
   "cell_type": "code",
   "execution_count": 16,
   "id": "cb0b6c34-ea20-40ec-84df-e185bf159dc3",
   "metadata": {},
   "outputs": [
    {
     "name": "stdout",
     "output_type": "stream",
     "text": [
      "INFO:tensorflow:C:\\Users\\91798\\OneDrive\\Desktop\\In-House\\Model.keras is not in all_model_checkpoint_paths. Manually adding it.\n"
     ]
    }
   ],
   "source": [
    "model.save(\"Model.keras\")"
   ]
  },
  {
   "cell_type": "code",
   "execution_count": 21,
   "id": "decaa393-9b25-4d0e-b93c-363f53779fe9",
   "metadata": {},
   "outputs": [
    {
     "name": "stderr",
     "output_type": "stream",
     "text": [
      "0it [00:00, ?it/s]\n"
     ]
    },
    {
     "name": "stdout",
     "output_type": "stream",
     "text": [
      "WARNING:tensorflow:From D:\\Python\\Lib\\site-packages\\keras\\src\\utils\\version_utils.py:76: The name tf.executing_eagerly_outside_functions is deprecated. Please use tf.compat.v1.executing_eagerly_outside_functions instead.\n",
      "\n",
      "WARNING:tensorflow:From D:\\Python\\Lib\\site-packages\\keras\\src\\engine\\training_v1.py:635: The name tf.data.Iterator is deprecated. Please use tf.compat.v1.data.Iterator instead.\n",
      "\n",
      "WARNING:tensorflow:From D:\\Python\\Lib\\site-packages\\keras\\src\\engine\\training_utils_v1.py:50: The name tf.ragged.RaggedTensorValue is deprecated. Please use tf.compat.v1.ragged.RaggedTensorValue instead.\n",
      "\n"
     ]
    },
    {
     "ename": "KeyboardInterrupt",
     "evalue": "",
     "output_type": "error",
     "traceback": [
      "\u001b[1;31m---------------------------------------------------------------------------\u001b[0m",
      "\u001b[1;31mKeyboardInterrupt\u001b[0m                         Traceback (most recent call last)",
      "Cell \u001b[1;32mIn[21], line 54\u001b[0m\n\u001b[0;32m     46\u001b[0m     cv2\u001b[38;5;241m.\u001b[39mdestroyAllWindows()\n\u001b[0;32m     49\u001b[0m \u001b[38;5;124;03m\"\"\"\u001b[39;00m\n\u001b[0;32m     50\u001b[0m \u001b[38;5;124;03mNeed to aad a key to terminate the process.\u001b[39;00m\n\u001b[0;32m     51\u001b[0m \u001b[38;5;124;03mNeed to aad key to take a screenshot and save it to the desired file location.\u001b[39;00m\n\u001b[0;32m     52\u001b[0m \u001b[38;5;124;03m\"\"\"\u001b[39;00m\n\u001b[1;32m---> 54\u001b[0m \u001b[43mvalidation_screenshot\u001b[49m\u001b[43m(\u001b[49m\u001b[43m)\u001b[49m\n",
      "Cell \u001b[1;32mIn[21], line 26\u001b[0m, in \u001b[0;36mvalidation_screenshot\u001b[1;34m()\u001b[0m\n\u001b[0;32m     24\u001b[0m frame_rgb \u001b[38;5;241m=\u001b[39m cv2\u001b[38;5;241m.\u001b[39mcvtColor(frame, cv2\u001b[38;5;241m.\u001b[39mCOLOR_BGR2RGB)\n\u001b[0;32m     25\u001b[0m \u001b[38;5;66;03m# frame_gray = cv2.cvtColor(frame, cv2.COLOR_BGR2GRAY)\u001b[39;00m\n\u001b[1;32m---> 26\u001b[0m faces \u001b[38;5;241m=\u001b[39m \u001b[43mdetector\u001b[49m\u001b[38;5;241;43m.\u001b[39;49m\u001b[43mdetect_faces\u001b[49m\u001b[43m(\u001b[49m\u001b[43mframe_rgb\u001b[49m\u001b[43m)\u001b[49m\n\u001b[0;32m     27\u001b[0m \u001b[38;5;28;01mfor\u001b[39;00m face \u001b[38;5;129;01min\u001b[39;00m faces:\n\u001b[0;32m     28\u001b[0m     x, y, w, h \u001b[38;5;241m=\u001b[39m face[\u001b[38;5;124m'\u001b[39m\u001b[38;5;124mbox\u001b[39m\u001b[38;5;124m'\u001b[39m]\n",
      "File \u001b[1;32mD:\\Python\\Lib\\site-packages\\mtcnn\\mtcnn.py:300\u001b[0m, in \u001b[0;36mMTCNN.detect_faces\u001b[1;34m(self, img)\u001b[0m\n\u001b[0;32m    298\u001b[0m \u001b[38;5;66;03m# We pipe here each of the stages\u001b[39;00m\n\u001b[0;32m    299\u001b[0m \u001b[38;5;28;01mfor\u001b[39;00m stage \u001b[38;5;129;01min\u001b[39;00m stages:\n\u001b[1;32m--> 300\u001b[0m     result \u001b[38;5;241m=\u001b[39m \u001b[43mstage\u001b[49m\u001b[43m(\u001b[49m\u001b[43mimg\u001b[49m\u001b[43m,\u001b[49m\u001b[43m \u001b[49m\u001b[43mresult\u001b[49m\u001b[43m[\u001b[49m\u001b[38;5;241;43m0\u001b[39;49m\u001b[43m]\u001b[49m\u001b[43m,\u001b[49m\u001b[43m \u001b[49m\u001b[43mresult\u001b[49m\u001b[43m[\u001b[49m\u001b[38;5;241;43m1\u001b[39;49m\u001b[43m]\u001b[49m\u001b[43m)\u001b[49m\n\u001b[0;32m    302\u001b[0m [total_boxes, points] \u001b[38;5;241m=\u001b[39m result\n\u001b[0;32m    304\u001b[0m bounding_boxes \u001b[38;5;241m=\u001b[39m []\n",
      "File \u001b[1;32mD:\\Python\\Lib\\site-packages\\mtcnn\\mtcnn.py:337\u001b[0m, in \u001b[0;36mMTCNN.__stage1\u001b[1;34m(self, image, scales, stage_status)\u001b[0m\n\u001b[0;32m    334\u001b[0m status \u001b[38;5;241m=\u001b[39m stage_status\n\u001b[0;32m    336\u001b[0m \u001b[38;5;28;01mfor\u001b[39;00m scale \u001b[38;5;129;01min\u001b[39;00m scales:\n\u001b[1;32m--> 337\u001b[0m     scaled_image \u001b[38;5;241m=\u001b[39m \u001b[38;5;28;43mself\u001b[39;49m\u001b[38;5;241;43m.\u001b[39;49m\u001b[43m__scale_image\u001b[49m\u001b[43m(\u001b[49m\u001b[43mimage\u001b[49m\u001b[43m,\u001b[49m\u001b[43m \u001b[49m\u001b[43mscale\u001b[49m\u001b[43m)\u001b[49m\n\u001b[0;32m    339\u001b[0m     img_x \u001b[38;5;241m=\u001b[39m np\u001b[38;5;241m.\u001b[39mexpand_dims(scaled_image, \u001b[38;5;241m0\u001b[39m)\n\u001b[0;32m    340\u001b[0m     img_y \u001b[38;5;241m=\u001b[39m np\u001b[38;5;241m.\u001b[39mtranspose(img_x, (\u001b[38;5;241m0\u001b[39m, \u001b[38;5;241m2\u001b[39m, \u001b[38;5;241m1\u001b[39m, \u001b[38;5;241m3\u001b[39m))\n",
      "File \u001b[1;32mD:\\Python\\Lib\\site-packages\\mtcnn\\mtcnn.py:124\u001b[0m, in \u001b[0;36mMTCNN.__scale_image\u001b[1;34m(image, scale)\u001b[0m\n\u001b[0;32m    121\u001b[0m width_scaled \u001b[38;5;241m=\u001b[39m \u001b[38;5;28mint\u001b[39m(np\u001b[38;5;241m.\u001b[39mceil(width \u001b[38;5;241m*\u001b[39m scale))\n\u001b[0;32m    122\u001b[0m height_scaled \u001b[38;5;241m=\u001b[39m \u001b[38;5;28mint\u001b[39m(np\u001b[38;5;241m.\u001b[39mceil(height \u001b[38;5;241m*\u001b[39m scale))\n\u001b[1;32m--> 124\u001b[0m im_data \u001b[38;5;241m=\u001b[39m \u001b[43mcv2\u001b[49m\u001b[38;5;241;43m.\u001b[39;49m\u001b[43mresize\u001b[49m\u001b[43m(\u001b[49m\u001b[43mimage\u001b[49m\u001b[43m,\u001b[49m\u001b[43m \u001b[49m\u001b[43m(\u001b[49m\u001b[43mwidth_scaled\u001b[49m\u001b[43m,\u001b[49m\u001b[43m \u001b[49m\u001b[43mheight_scaled\u001b[49m\u001b[43m)\u001b[49m\u001b[43m,\u001b[49m\u001b[43m \u001b[49m\u001b[43minterpolation\u001b[49m\u001b[38;5;241;43m=\u001b[39;49m\u001b[43mcv2\u001b[49m\u001b[38;5;241;43m.\u001b[39;49m\u001b[43mINTER_AREA\u001b[49m\u001b[43m)\u001b[49m\n\u001b[0;32m    126\u001b[0m \u001b[38;5;66;03m# Normalize the image's pixels\u001b[39;00m\n\u001b[0;32m    127\u001b[0m im_data_normalized \u001b[38;5;241m=\u001b[39m (im_data \u001b[38;5;241m-\u001b[39m \u001b[38;5;241m127.5\u001b[39m) \u001b[38;5;241m*\u001b[39m \u001b[38;5;241m0.0078125\u001b[39m\n",
      "\u001b[1;31mKeyboardInterrupt\u001b[0m: "
     ]
    }
   ],
   "source": [
    "def validation_screenshot():\n",
    "    Vdata = data_for_visualization()\n",
    "    cap = cv2.VideoCapture(0)\n",
    "    detector = MTCNN()\n",
    "    id = 1\n",
    "    img_id = 0\n",
    "    file_name = \"Stranger\"\n",
    "    while True:\n",
    "        \n",
    "        ret, frame = cap.read()\n",
    "    \n",
    "        for data in Vdata:\n",
    "            img_data = data[0]\n",
    "            new_data = img_data.reshape(50,50,1)\n",
    "            prediction = model.predict([new_data])[0]\n",
    "        \n",
    "            if np.argmax(prediction) == 0:\n",
    "                name = 'Bharat'\n",
    "            elif np.argmax(prediction) == 1:\n",
    "                name = 'Shyam'\n",
    "            else:\n",
    "                name = 'Pawan'\n",
    "             \n",
    "        frame_rgb = cv2.cvtColor(frame, cv2.COLOR_BGR2RGB)\n",
    "        # frame_gray = cv2.cvtColor(frame, cv2.COLOR_BGR2GRAY)\n",
    "        faces = detector.detect_faces(frame_rgb)\n",
    "        for face in faces:\n",
    "            x, y, w, h = face['box']\n",
    "            cv2.rectangle(frame, (x,y), (x+w, y+h), (0,255,0), 2)\n",
    "            image = frame[y:y+h, x:x+w]\n",
    "            face = cv2.resize(image, (200, 200))\n",
    "            # cv2.putText(frame, name, (50, 50), cv2.FONT_HERSHEY_SIMPLEX, 1, (0,255,0), 2)\n",
    "        \n",
    "            cv2.imshow(\"Recognition\", frame)\n",
    "            \n",
    "            \n",
    "            if cv2.waitKey(1) == ord('v'):\n",
    "                img_id+=1\n",
    "                file_name_path = f\"visualization/{file_name}\" + \".\" + str(id) + \".\"+ str(img_id) + \".jpg\"\n",
    "                cv2.imwrite(file_name_path, face)\n",
    "            \n",
    "            if cv2.waitKey(1) & 0xFF == ord('q'):\n",
    "                break\n",
    "    \n",
    "    cap.release()\n",
    "    cv2.destroyAllWindows()\n",
    "    \n",
    "\n",
    "\"\"\"\n",
    "Need to aad a key to terminate the process.\n",
    "Need to aad key to take a screenshot and save it to the desired file location.\n",
    "\"\"\"\n",
    "\n",
    "# validation_screenshot()"
   ]
  },
  {
   "cell_type": "code",
   "execution_count": null,
   "id": "f7903280-0490-47f5-b4e1-d0edfd40e79b",
   "metadata": {},
   "outputs": [],
   "source": []
  },
  {
   "cell_type": "code",
   "execution_count": null,
   "id": "45c48387-d80e-43a8-9e4e-9427c3b6907f",
   "metadata": {},
   "outputs": [],
   "source": []
  }
 ],
 "metadata": {
  "kernelspec": {
   "display_name": "Python 3 (ipykernel)",
   "language": "python",
   "name": "python3"
  },
  "language_info": {
   "codemirror_mode": {
    "name": "ipython",
    "version": 3
   },
   "file_extension": ".py",
   "mimetype": "text/x-python",
   "name": "python",
   "nbconvert_exporter": "python",
   "pygments_lexer": "ipython3",
   "version": "3.11.7"
  }
 },
 "nbformat": 4,
 "nbformat_minor": 5
}
