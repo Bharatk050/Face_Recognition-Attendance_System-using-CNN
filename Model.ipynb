{
 "cells": [
  {
   "cell_type": "code",
   "execution_count": 1,
   "metadata": {
    "id": "YTgLje3ggppK"
   },
   "outputs": [
    {
     "name": "stdout",
     "output_type": "stream",
     "text": [
      "WARNING:tensorflow:From D:\\Python\\Lib\\site-packages\\keras\\src\\losses.py:2976: The name tf.losses.sparse_softmax_cross_entropy is deprecated. Please use tf.compat.v1.losses.sparse_softmax_cross_entropy instead.\n",
      "\n"
     ]
    }
   ],
   "source": [
    "import numpy as np\n",
    "import cv2\n",
    "import os\n",
    "import tensorflow as tf\n",
    "import matplotlib.pyplot as plt\n",
    "import scipy\n",
    "from tensorflow.keras import layers\n",
    "from tensorflow.keras import Model\n",
    "from tensorflow.keras.optimizers import RMSprop\n",
    "from tensorflow.keras.preprocessing.image import ImageDataGenerator"
   ]
  },
  {
   "cell_type": "code",
   "execution_count": 2,
   "metadata": {
    "id": "Ui90QfoRhA-R"
   },
   "outputs": [],
   "source": [
    "base_dir = \"Images\"\n",
    "train_dir = os.path.join(base_dir, 'Train')\n",
    "test_dir = os.path.join(base_dir, 'Test')"
   ]
  },
  {
   "cell_type": "code",
   "execution_count": 3,
   "metadata": {
    "id": "mCeNXtyqhNwC"
   },
   "outputs": [],
   "source": [
    "train_datagen = ImageDataGenerator(\n",
    "    rescale=1./255,\n",
    "    rotation_range=40,\n",
    "    width_shift_range=0.2,\n",
    "    height_shift_range=0.2,\n",
    "    shear_range=0.2,\n",
    "    zoom_range=0.2,\n",
    "    horizontal_flip=True,)\n",
    "\n",
    "test_datagen = ImageDataGenerator(rescale=1./255)"
   ]
  },
  {
   "cell_type": "code",
   "execution_count": 4,
   "metadata": {
    "colab": {
     "base_uri": "https://localhost:8080/"
    },
    "id": "u7pEgojMh39_",
    "outputId": "7b2786c5-3059-42b9-a57b-e48ef0449633"
   },
   "outputs": [
    {
     "name": "stdout",
     "output_type": "stream",
     "text": [
      "Found 150 images belonging to 3 classes.\n",
      "Found 150 images belonging to 3 classes.\n"
     ]
    }
   ],
   "source": [
    "train_generator = train_datagen.flow_from_directory(\n",
    "    train_dir,\n",
    "    target_size=(150, 150),\n",
    "    batch_size=20,\n",
    "    class_mode='binary')\n",
    "\n",
    "test_generator = test_datagen.flow_from_directory(\n",
    "    test_dir,\n",
    "    target_size=(150, 150),\n",
    "    batch_size=20,\n",
    "    class_mode='binary')"
   ]
  },
  {
   "cell_type": "code",
   "execution_count": 5,
   "metadata": {
    "id": "2lAsps7ahuAh"
   },
   "outputs": [
    {
     "name": "stdout",
     "output_type": "stream",
     "text": [
      "WARNING:tensorflow:From D:\\Python\\Lib\\site-packages\\keras\\src\\backend.py:1398: The name tf.executing_eagerly_outside_functions is deprecated. Please use tf.compat.v1.executing_eagerly_outside_functions instead.\n",
      "\n",
      "WARNING:tensorflow:From D:\\Python\\Lib\\site-packages\\keras\\src\\layers\\pooling\\max_pooling2d.py:161: The name tf.nn.max_pool is deprecated. Please use tf.nn.max_pool2d instead.\n",
      "\n"
     ]
    }
   ],
   "source": [
    "img_input = layers.Input(shape=(150, 150, 3))\n",
    "\n",
    "x = layers.Conv2D(16, 3, activation='relu')(img_input)\n",
    "x = layers.MaxPooling2D(2)(x)\n",
    "\n",
    "x = layers.Conv2D(32, 3, activation='relu')(x)\n",
    "x = layers.MaxPooling2D(2)(x)\n",
    "\n",
    "x = layers.Conv2D(64, 3, activation='relu')(x)\n",
    "x = layers.MaxPooling2D(2)(x)\n",
    "\n",
    "x = layers.Flatten()(x)\n",
    "x = layers.Dense(512, activation='relu')(x)\n",
    "output = layers.Dense(1, activation='sigmoid')(x)\n",
    "\n",
    "model = Model(img_input, output)\n",
    "model.compile(loss='binary_crossentropy',\n",
    "            optimizer=RMSprop(learning_rate=0.01), ##########\n",
    "            metrics=['acc'])"
   ]
  },
  {
   "cell_type": "code",
   "execution_count": 6,
   "metadata": {
    "colab": {
     "base_uri": "https://localhost:8080/"
    },
    "id": "yXvhz-DBiMTM",
    "outputId": "3ba36f3b-2f3e-47c9-d391-15ee7cd5d375"
   },
   "outputs": [
    {
     "name": "stderr",
     "output_type": "stream",
     "text": [
      "C:\\Users\\91798\\AppData\\Local\\Temp\\ipykernel_17972\\2906203320.py:1: UserWarning: `Model.fit_generator` is deprecated and will be removed in a future version. Please use `Model.fit`, which supports generators.\n",
      "  history = model.fit_generator(\n"
     ]
    },
    {
     "name": "stdout",
     "output_type": "stream",
     "text": [
      "Epoch 1/10\n",
      "WARNING:tensorflow:From D:\\Python\\Lib\\site-packages\\keras\\src\\utils\\tf_utils.py:492: The name tf.ragged.RaggedTensorValue is deprecated. Please use tf.compat.v1.ragged.RaggedTensorValue instead.\n",
      "\n",
      "WARNING:tensorflow:From D:\\Python\\Lib\\site-packages\\keras\\src\\engine\\base_layer_utils.py:384: The name tf.executing_eagerly_outside_functions is deprecated. Please use tf.compat.v1.executing_eagerly_outside_functions instead.\n",
      "\n",
      "5/5 - 11s - loss: 12011.4004 - acc: 0.4333 - val_loss: -3.8050e+04 - val_acc: 0.3600 - 11s/epoch - 2s/step\n",
      "Epoch 2/10\n",
      "5/5 - 6s - loss: -9.4297e+05 - acc: 0.4333 - val_loss: -8.7356e+06 - val_acc: 0.3400 - 6s/epoch - 1s/step\n",
      "Epoch 3/10\n",
      "5/5 - 6s - loss: -1.4996e+07 - acc: 0.3500 - val_loss: -7.9915e+07 - val_acc: 0.3700 - 6s/epoch - 1s/step\n",
      "Epoch 4/10\n",
      "5/5 - 6s - loss: -9.0464e+07 - acc: 0.3700 - val_loss: -3.4983e+08 - val_acc: 0.4700 - 6s/epoch - 1s/step\n",
      "Epoch 5/10\n",
      "5/5 - 6s - loss: -2.9319e+08 - acc: 0.3778 - val_loss: -7.2225e+08 - val_acc: 0.4000 - 6s/epoch - 1s/step\n",
      "Epoch 6/10\n",
      "5/5 - 6s - loss: -5.6019e+08 - acc: 0.4111 - val_loss: -1.4950e+09 - val_acc: 0.3300 - 6s/epoch - 1s/step\n",
      "Epoch 7/10\n",
      "5/5 - 6s - loss: -9.9682e+08 - acc: 0.3556 - val_loss: -2.4863e+09 - val_acc: 0.3600 - 6s/epoch - 1s/step\n",
      "Epoch 8/10\n",
      "5/5 - 6s - loss: -1.5678e+09 - acc: 0.3444 - val_loss: -4.0641e+09 - val_acc: 0.6200 - 6s/epoch - 1s/step\n",
      "Epoch 9/10\n",
      "5/5 - 6s - loss: -2.9138e+09 - acc: 0.4300 - val_loss: -6.4308e+09 - val_acc: 0.3600 - 6s/epoch - 1s/step\n",
      "Epoch 10/10\n",
      "5/5 - 6s - loss: -3.9845e+09 - acc: 0.3444 - val_loss: -1.0148e+10 - val_acc: 0.3800 - 6s/epoch - 1s/step\n"
     ]
    }
   ],
   "source": [
    "history = model.fit_generator(\n",
    "    train_generator,\n",
    "    steps_per_epoch=5,\n",
    "    epochs=10,\n",
    "    validation_data=test_generator,\n",
    "    validation_steps=5, #########\n",
    "    verbose=2)"
   ]
  },
  {
   "cell_type": "code",
   "execution_count": 7,
   "metadata": {
    "colab": {
     "base_uri": "https://localhost:8080/",
     "height": 904
    },
    "id": "6F237cFiiOx9",
    "outputId": "575734a0-118e-473f-bbb0-3d50e2df3c51"
   },
   "outputs": [
    {
     "data": {
      "text/plain": [
       "Text(0.5, 1.0, 'Training and validation loss')"
      ]
     },
     "execution_count": 7,
     "metadata": {},
     "output_type": "execute_result"
    },
    {
     "data": {
      "image/png": "[encoded data removed]",
      "text/plain": [
       "<Figure size 640x480 with 1 Axes>"
      ]
     },
     "metadata": {},
     "output_type": "display_data"
    },
    {
     "data": {
      "image/png": "[encoded data removed]",
      "text/plain": [
       "<Figure size 640x480 with 1 Axes>"
      ]
     },
     "metadata": {},
     "output_type": "display_data"
    }
   ],
   "source": [
    "acc = history.history['acc']\n",
    "val_acc = history.history['val_acc']\n",
    "\n",
    "loss = history.history['loss']\n",
    "val_loss = history.history['val_loss']\n",
    "\n",
    "epochs = range(len(acc))\n",
    "\n",
    "plt.plot(epochs, acc)\n",
    "plt.plot(epochs, val_acc)\n",
    "plt.title('Training and validation accuracy')\n",
    "\n",
    "plt.figure()\n",
    "\n",
    "plt.plot(epochs, loss)\n",
    "plt.plot(epochs, val_loss)\n",
    "plt.title('Training and validation loss')"
   ]
  },
  {
   "cell_type": "code",
   "execution_count": 8,
   "metadata": {
    "id": "QUf-pwDunQBO"
   },
   "outputs": [],
   "source": [
    "def preprocess(file_path):\n",
    "    byte_img = tf.io.read_file(str(file_path))\n",
    "    # img  = tf.io.decode_jpeg(byte_img)\n",
    "    img = tf.image.decode_jpeg(byte_img)\n",
    "    img = tf.image.resize(img, (150, 150))\n",
    "    img=  img / 255.0\n",
    "    return img"
   ]
  },
  {
   "cell_type": "code",
   "execution_count": 29,
   "metadata": {
    "id": "TGYGc4oGmfOA"
   },
   "outputs": [],
   "source": [
    "\n",
    "def verify(model, detection_threshold, verification_threshold):\n",
    "    # Build results array\n",
    "    results = []\n",
    "    for file in os.listdir(os.path.join('Images', 'Test')):\n",
    "        for image in os.listdir(os.path.join('Images', 'Test', file)):\n",
    "        \n",
    "            # Images/Input_Image/input_image.jpeg\n",
    "            input_img = preprocess(os.path.join('Images/Input_Image', 'input_image.jpeg'))\n",
    "            validation_img = preprocess(os.path.join('Images', 'Test', file, image))\n",
    "            \n",
    "        # Make Predictions\n",
    "        result_input_img = model.predict(list(np.expand_dims([input_img], axis=1)))\n",
    "        result_validation_img = model.predict(list(np.expand_dims([validation_img], axis=1)))\n",
    "        # results.append(result)\n",
    "    # print(result_input_img, result_validation_img)\n",
    "\n",
    "    # Detection Threshold: Metric above which a prediciton is considered positive\n",
    "    detection = np.sum(np.array(result_input_img) > detection_threshold)\n",
    "    # print(\"detection: \" , detection)\n",
    "    # print(np.array(result_input_img))\n",
    "\n",
    "    # Verification Threshold: Proportion of positive predictions / total positive samples\n",
    "    verification = detection / len(os.listdir(os.path.join(\"Images\", 'Train/Bharat')))\n",
    "    # print(verification)\n",
    "    verified = verification > verification_threshold\n",
    "\n",
    "    return results, verified"
   ]
  },
  {
   "cell_type": "code",
   "execution_count": 30,
   "metadata": {},
   "outputs": [],
   "source": [
    "model.save(\"CNN_model.keras\")"
   ]
  },
  {
   "cell_type": "code",
   "execution_count": 39,
   "metadata": {
    "id": "oB6zBTZPDo0l"
   },
   "outputs": [
    {
     "name": "stdout",
     "output_type": "stream",
     "text": [
      "1/1 [==============================] - 0s 408ms/step\n",
      "1/1 [==============================] - 0s 61ms/step\n",
      "1/1 [==============================] - 0s 39ms/step\n",
      "1/1 [==============================] - 0s 35ms/step\n",
      "1/1 [==============================] - 0s 38ms/step\n",
      "1/1 [==============================] - 0s 35ms/step\n"
     ]
    },
    {
     "name": "stdin",
     "output_type": "stream",
     "text": [
      "Enter your name:  Bharat\n"
     ]
    },
    {
     "ename": "AttributeError",
     "evalue": "'NoneType' object has no attribute 'group'",
     "output_type": "error",
     "traceback": [
      "\u001b[1;31m---------------------------------------------------------------------------\u001b[0m",
      "\u001b[1;31mValueError\u001b[0m                                Traceback (most recent call last)",
      "File \u001b[1;32mD:\\Python\\Lib\\site-packages\\xlsxwriter\\worksheet.py:101\u001b[0m, in \u001b[0;36mconvert_cell_args.<locals>.cell_wrapper\u001b[1;34m(self, *args, **kwargs)\u001b[0m\n\u001b[0;32m    100\u001b[0m         first_arg \u001b[38;5;241m=\u001b[39m args[\u001b[38;5;241m0\u001b[39m]\n\u001b[1;32m--> 101\u001b[0m         \u001b[38;5;28;43mint\u001b[39;49m\u001b[43m(\u001b[49m\u001b[43mfirst_arg\u001b[49m\u001b[43m)\u001b[49m\n\u001b[0;32m    102\u001b[0m \u001b[38;5;28;01mexcept\u001b[39;00m \u001b[38;5;167;01mValueError\u001b[39;00m:\n\u001b[0;32m    103\u001b[0m     \u001b[38;5;66;03m# First arg isn't an int, convert to A1 notation.\u001b[39;00m\n",
      "\u001b[1;31mValueError\u001b[0m: invalid literal for int() with base 10: 'Bharat'",
      "\nDuring handling of the above exception, another exception occurred:\n",
      "\u001b[1;31mAttributeError\u001b[0m                            Traceback (most recent call last)",
      "Cell \u001b[1;32mIn[39], line 49\u001b[0m\n\u001b[0;32m     46\u001b[0m worksheet \u001b[38;5;241m=\u001b[39m workbook\u001b[38;5;241m.\u001b[39madd_worksheet()\n\u001b[0;32m     48\u001b[0m \u001b[38;5;28;01mif\u001b[39;00m flag:\n\u001b[1;32m---> 49\u001b[0m     \u001b[43mworksheet\u001b[49m\u001b[38;5;241;43m.\u001b[39;49m\u001b[43mwrite\u001b[49m\u001b[43m(\u001b[49m\u001b[38;5;124;43m'\u001b[39;49m\u001b[38;5;124;43mBharat\u001b[39;49m\u001b[38;5;124;43m'\u001b[39;49m\u001b[43m,\u001b[49m\u001b[43m \u001b[49m\u001b[38;5;124;43m'\u001b[39;49m\u001b[38;5;124;43mPresent\u001b[39;49m\u001b[38;5;124;43m'\u001b[39;49m\u001b[43m)\u001b[49m\n\u001b[0;32m     50\u001b[0m \u001b[38;5;28;01melse\u001b[39;00m:\n\u001b[0;32m     51\u001b[0m     worksheet\u001b[38;5;241m.\u001b[39mwrite(\u001b[38;5;124m'\u001b[39m\u001b[38;5;124mBharat\u001b[39m\u001b[38;5;124m'\u001b[39m, \u001b[38;5;124m\"\u001b[39m\u001b[38;5;124mAbsent\u001b[39m\u001b[38;5;124m\"\u001b[39m)\n",
      "File \u001b[1;32mD:\\Python\\Lib\\site-packages\\xlsxwriter\\worksheet.py:104\u001b[0m, in \u001b[0;36mconvert_cell_args.<locals>.cell_wrapper\u001b[1;34m(self, *args, **kwargs)\u001b[0m\n\u001b[0;32m    101\u001b[0m         \u001b[38;5;28mint\u001b[39m(first_arg)\n\u001b[0;32m    102\u001b[0m \u001b[38;5;28;01mexcept\u001b[39;00m \u001b[38;5;167;01mValueError\u001b[39;00m:\n\u001b[0;32m    103\u001b[0m     \u001b[38;5;66;03m# First arg isn't an int, convert to A1 notation.\u001b[39;00m\n\u001b[1;32m--> 104\u001b[0m     new_args \u001b[38;5;241m=\u001b[39m \u001b[43mxl_cell_to_rowcol\u001b[49m\u001b[43m(\u001b[49m\u001b[43mfirst_arg\u001b[49m\u001b[43m)\u001b[49m\n\u001b[0;32m    105\u001b[0m     args \u001b[38;5;241m=\u001b[39m new_args \u001b[38;5;241m+\u001b[39m args[\u001b[38;5;241m1\u001b[39m:]\n\u001b[0;32m    107\u001b[0m \u001b[38;5;28;01mreturn\u001b[39;00m method(\u001b[38;5;28mself\u001b[39m, \u001b[38;5;241m*\u001b[39margs, \u001b[38;5;241m*\u001b[39m\u001b[38;5;241m*\u001b[39mkwargs)\n",
      "File \u001b[1;32mD:\\Python\\Lib\\site-packages\\xlsxwriter\\utility.py:229\u001b[0m, in \u001b[0;36mxl_cell_to_rowcol\u001b[1;34m(cell_str)\u001b[0m\n\u001b[0;32m    226\u001b[0m     \u001b[38;5;28;01mreturn\u001b[39;00m \u001b[38;5;241m0\u001b[39m, \u001b[38;5;241m0\u001b[39m\n\u001b[0;32m    228\u001b[0m match \u001b[38;5;241m=\u001b[39m re_range_parts\u001b[38;5;241m.\u001b[39mmatch(cell_str)\n\u001b[1;32m--> 229\u001b[0m col_str \u001b[38;5;241m=\u001b[39m \u001b[43mmatch\u001b[49m\u001b[38;5;241;43m.\u001b[39;49m\u001b[43mgroup\u001b[49m(\u001b[38;5;241m2\u001b[39m)\n\u001b[0;32m    230\u001b[0m row_str \u001b[38;5;241m=\u001b[39m match\u001b[38;5;241m.\u001b[39mgroup(\u001b[38;5;241m4\u001b[39m)\n\u001b[0;32m    232\u001b[0m \u001b[38;5;66;03m# Convert base26 column string to number.\u001b[39;00m\n",
      "\u001b[1;31mAttributeError\u001b[0m: 'NoneType' object has no attribute 'group'"
     ]
    }
   ],
   "source": [
    "import cv2\n",
    "import xlsxwriter\n",
    "import time\n",
    "import mediapipe as mp\n",
    "import os\n",
    "cap = cv2.VideoCapture(0)\n",
    "\n",
    "mpDraw = mp.solutions.drawing_utils\n",
    "mpFaceMesh = mp.solutions.holistic\n",
    "# FaceMesh =  mpFaceMesh.FaceMesh(max_num_faces=1)\n",
    "holistic_model = mpFaceMesh.Holistic(\n",
    "    min_tracking_confidence= 0.5,\n",
    "    min_detection_confidence=0.5\n",
    ")\n",
    "drawSpec = mpDraw.DrawingSpec(thickness=1, circle_radius=1)\n",
    "\n",
    "pTime = 0\n",
    "flag = False\n",
    "while True:\n",
    "    ret, frame = cap.read()\n",
    "    frame = frame[120:120+250,200:200+250, :]\n",
    "    if not ret:\n",
    "        print(\"Error: Unable to capture frame from webcam.\")\n",
    "        break\n",
    "    \n",
    "    # FPS\n",
    "    cTime = time.time()\n",
    "    fps = 1/ (cTime - pTime)\n",
    "    pTime = cTime\n",
    "    cv2.putText(frame, f\"FPS: {int(fps)}\", (20, 70), cv2.FONT_HERSHEY_PLAIN, 2, (0, 255, 0), 3)\n",
    "\n",
    "    cv2.imshow('Face Detection', frame)\n",
    "    if cv2.waitKey(1) == ord('q'):\n",
    "        break\n",
    "    if cv2.waitKey(1) == ord('v'):\n",
    "        cv2.imwrite(os.path.join(\"Images\", \"Input_Image\", \"input_image.jpeg\"), frame)\n",
    "        input_frame = cv2.imread(\"Images\\\\Input_Image\\\\input_image.jpeg\")\n",
    "        imgRGB = cv2.cvtColor(input_frame, cv2.COLOR_BGR2RGB)\n",
    "        media_results = holistic_model.process(imgRGB)\n",
    "        if media_results.face_landmarks:\n",
    "            results, verified = verify(model, 0.01, 0.01)\n",
    "            flag = verified\n",
    "    \n",
    "name = input(\"Enter your name: \")\n",
    "workbook = xlsxwriter.Workbook(f\"{name}.xlsx\")\n",
    "worksheet = workbook.add_worksheet()\n",
    "\n",
    "if flag:\n",
    "    worksheet.write('Bharat', 'Present')\n",
    "else:\n",
    "    worksheet.write('Bharat', \"Absent\")\n",
    "workbook.close()\n",
    "print(\"Done\")\n",
    "cap.release()\n",
    "cv2.destroyAllWindows()"
   ]
  },
  {
   "cell_type": "code",
   "execution_count": null,
   "metadata": {},
   "outputs": [],
   "source": [
    "# import xlsxwriter module\n",
    "import xlsxwriter\n",
    "name = input(\"Enter your name: \")\n",
    "workbook = xlsxwriter.Workbook(f\"{name}.xlsx\")\n",
    "worksheet = workbook.add_worksheet()\n",
    "\n",
    "if flag:\n",
    "    worksheet.write('Bharat', 'Present')\n",
    "else:\n",
    "    worksheet.write('Bharat', \"Present\")\n",
    "workbook.close()\n"
   ]
  },
  {
   "cell_type": "code",
   "execution_count": 38,
   "metadata": {},
   "outputs": [
    {
     "name": "stdout",
     "output_type": "stream",
     "text": [
      "Collecting xlsxwriter\n",
      "  Downloading XlsxWriter-3.2.0-py3-none-any.whl.metadata (2.6 kB)\n",
      "Downloading XlsxWriter-3.2.0-py3-none-any.whl (159 kB)\n",
      "   ---------------------------------------- 0.0/159.9 kB ? eta -:--:--\n",
      "   ----------------- ---------------------- 71.7/159.9 kB 2.0 MB/s eta 0:00:01\n",
      "   ---------------------------------------- 159.9/159.9 kB 1.9 MB/s eta 0:00:00\n",
      "Installing collected packages: xlsxwriter\n",
      "Successfully installed xlsxwriter-3.2.0\n"
     ]
    }
   ],
   "source": [
    "!pip install xlsxwriter"
   ]
  },
  {
   "cell_type": "code",
   "execution_count": null,
   "metadata": {},
   "outputs": [],
   "source": []
  }
 ],
 "metadata": {
  "colab": {
   "provenance": []
  },
  "kernelspec": {
   "display_name": "Python 3 (ipykernel)",
   "language": "python",
   "name": "python3"
  },
  "language_info": {
   "codemirror_mode": {
    "name": "ipython",
    "version": 3
   },
   "file_extension": ".py",
   "mimetype": "text/x-python",
   "name": "python",
   "nbconvert_exporter": "python",
   "pygments_lexer": "ipython3",
   "version": "3.11.7"
  }
 },
 "nbformat": 4,
 "nbformat_minor": 4
}
