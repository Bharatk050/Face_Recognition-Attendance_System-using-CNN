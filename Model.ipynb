{
 "cells": [
  {
   "cell_type": "code",
   "execution_count": 1,
   "metadata": {
    "id": "YTgLje3ggppK"
   },
   "outputs": [
    {
     "name": "stdout",
     "output_type": "stream",
     "text": [
      "WARNING:tensorflow:From D:\\Python\\Lib\\site-packages\\keras\\src\\losses.py:2976: The name tf.losses.sparse_softmax_cross_entropy is deprecated. Please use tf.compat.v1.losses.sparse_softmax_cross_entropy instead.\n",
      "\n"
     ]
    }
   ],
   "source": [
    "import numpy as np\n",
    "import cv2\n",
    "import os\n",
    "import tensorflow as tf\n",
    "import matplotlib.pyplot as plt\n",
    "import scipy\n",
    "from tensorflow.keras import layers\n",
    "from tensorflow.keras import Model\n",
    "from tensorflow.keras.optimizers import RMSprop\n",
    "from tensorflow.keras.preprocessing.image import ImageDataGenerator"
   ]
  },
  {
   "cell_type": "code",
   "execution_count": 2,
   "metadata": {
    "id": "Ui90QfoRhA-R"
   },
   "outputs": [],
   "source": [
    "base_dir = \"Images\"\n",
    "train_dir = os.path.join(base_dir, 'Train')\n",
    "test_dir = os.path.join(base_dir, 'Test')"
   ]
  },
  {
   "cell_type": "code",
   "execution_count": 3,
   "metadata": {
    "id": "mCeNXtyqhNwC"
   },
   "outputs": [],
   "source": [
    "train_datagen = ImageDataGenerator(\n",
    "    rescale=1./255,\n",
    "    rotation_range=40,\n",
    "    width_shift_range=0.2,\n",
    "    height_shift_range=0.2,\n",
    "    shear_range=0.2,\n",
    "    zoom_range=0.2,\n",
    "    horizontal_flip=True,)\n",
    "\n",
    "test_datagen = ImageDataGenerator(rescale=1./255)"
   ]
  },
  {
   "cell_type": "code",
   "execution_count": 4,
   "metadata": {
    "colab": {
     "base_uri": "https://localhost:8080/"
    },
    "id": "u7pEgojMh39_",
    "outputId": "7b2786c5-3059-42b9-a57b-e48ef0449633"
   },
   "outputs": [
    {
     "name": "stdout",
     "output_type": "stream",
     "text": [
      "Found 150 images belonging to 3 classes.\n",
      "Found 150 images belonging to 3 classes.\n"
     ]
    }
   ],
   "source": [
    "train_generator = train_datagen.flow_from_directory(\n",
    "    train_dir,\n",
    "    target_size=(150, 150),\n",
    "    batch_size=20,\n",
    "    class_mode='binary')\n",
    "\n",
    "test_generator = test_datagen.flow_from_directory(\n",
    "    test_dir,\n",
    "    target_size=(150, 150),\n",
    "    batch_size=20,\n",
    "    class_mode='binary')"
   ]
  },
  {
   "cell_type": "code",
   "execution_count": 5,
   "metadata": {
    "id": "2lAsps7ahuAh"
   },
   "outputs": [
    {
     "name": "stdout",
     "output_type": "stream",
     "text": [
      "WARNING:tensorflow:From D:\\Python\\Lib\\site-packages\\keras\\src\\backend.py:1398: The name tf.executing_eagerly_outside_functions is deprecated. Please use tf.compat.v1.executing_eagerly_outside_functions instead.\n",
      "\n",
      "WARNING:tensorflow:From D:\\Python\\Lib\\site-packages\\keras\\src\\layers\\pooling\\max_pooling2d.py:161: The name tf.nn.max_pool is deprecated. Please use tf.nn.max_pool2d instead.\n",
      "\n"
     ]
    }
   ],
   "source": [
    "img_input = layers.Input(shape=(150, 150, 3))\n",
    "\n",
    "x = layers.Conv2D(16, 3, activation='relu')(img_input)\n",
    "x = layers.MaxPooling2D(2)(x)\n",
    "\n",
    "x = layers.Conv2D(32, 3, activation='relu')(x)\n",
    "x = layers.MaxPooling2D(2)(x)\n",
    "\n",
    "x = layers.Conv2D(64, 3, activation='relu')(x)\n",
    "x = layers.MaxPooling2D(2)(x)\n",
    "\n",
    "x = layers.Flatten()(x)\n",
    "x = layers.Dense(512, activation='relu')(x)\n",
    "output = layers.Dense(1, activation='sigmoid')(x)\n",
    "\n",
    "model = Model(img_input, output)\n",
    "model.compile(loss='binary_crossentropy',\n",
    "            optimizer=RMSprop(learning_rate=0.01), ##########\n",
    "            metrics=['acc'])"
   ]
  },
  {
   "cell_type": "code",
   "execution_count": 6,
   "metadata": {
    "colab": {
     "base_uri": "https://localhost:8080/"
    },
    "id": "yXvhz-DBiMTM",
    "outputId": "3ba36f3b-2f3e-47c9-d391-15ee7cd5d375"
   },
   "outputs": [
    {
     "name": "stderr",
     "output_type": "stream",
     "text": [
      "C:\\Users\\91798\\AppData\\Local\\Temp\\ipykernel_20608\\2906203320.py:1: UserWarning: `Model.fit_generator` is deprecated and will be removed in a future version. Please use `Model.fit`, which supports generators.\n",
      "  history = model.fit_generator(\n"
     ]
    },
    {
     "name": "stdout",
     "output_type": "stream",
     "text": [
      "Epoch 1/10\n",
      "WARNING:tensorflow:From D:\\Python\\Lib\\site-packages\\keras\\src\\utils\\tf_utils.py:492: The name tf.ragged.RaggedTensorValue is deprecated. Please use tf.compat.v1.ragged.RaggedTensorValue instead.\n",
      "\n",
      "WARNING:tensorflow:From D:\\Python\\Lib\\site-packages\\keras\\src\\engine\\base_layer_utils.py:384: The name tf.executing_eagerly_outside_functions is deprecated. Please use tf.compat.v1.executing_eagerly_outside_functions instead.\n",
      "\n",
      "5/5 - 8s - loss: 15395.8232 - acc: 0.3444 - val_loss: -7.0039e+02 - val_acc: 0.3400 - 8s/epoch - 2s/step\n",
      "Epoch 2/10\n",
      "5/5 - 5s - loss: 532.7685 - acc: 0.3778 - val_loss: -7.2500e+02 - val_acc: 0.3700 - 5s/epoch - 1s/step\n",
      "Epoch 3/10\n",
      "5/5 - 5s - loss: -6.2282e+02 - acc: 0.3700 - val_loss: -2.4475e+03 - val_acc: 0.3300 - 5s/epoch - 1s/step\n",
      "Epoch 4/10\n",
      "5/5 - 5s - loss: -4.4886e+02 - acc: 0.4222 - val_loss: -6.9622e+03 - val_acc: 0.6400 - 5s/epoch - 966ms/step\n",
      "Epoch 5/10\n",
      "5/5 - 5s - loss: 1241.3431 - acc: 0.4778 - val_loss: -5.6481e+03 - val_acc: 0.6600 - 5s/epoch - 1s/step\n",
      "Epoch 6/10\n",
      "5/5 - 5s - loss: -6.0765e+03 - acc: 0.5111 - val_loss: -1.3524e+05 - val_acc: 0.3500 - 5s/epoch - 932ms/step\n",
      "Epoch 7/10\n",
      "5/5 - 5s - loss: -4.9855e+04 - acc: 0.4300 - val_loss: -9.9442e+05 - val_acc: 0.4200 - 5s/epoch - 949ms/step\n",
      "Epoch 8/10\n",
      "5/5 - 5s - loss: -2.3693e+06 - acc: 0.3111 - val_loss: -1.2709e+07 - val_acc: 0.6800 - 5s/epoch - 938ms/step\n",
      "Epoch 9/10\n",
      "5/5 - 5s - loss: -9.0952e+06 - acc: 0.4500 - val_loss: -3.5583e+07 - val_acc: 0.6500 - 5s/epoch - 971ms/step\n",
      "Epoch 10/10\n",
      "5/5 - 5s - loss: -3.0104e+07 - acc: 0.4778 - val_loss: -1.3211e+08 - val_acc: 0.6700 - 5s/epoch - 946ms/step\n"
     ]
    }
   ],
   "source": [
    "history = model.fit_generator(\n",
    "    train_generator,\n",
    "    steps_per_epoch=5,\n",
    "    epochs=10,\n",
    "    validation_data=test_generator,\n",
    "    validation_steps=5, #########\n",
    "    verbose=2)"
   ]
  },
  {
   "cell_type": "code",
   "execution_count": 7,
   "metadata": {
    "colab": {
     "base_uri": "https://localhost:8080/",
     "height": 904
    },
    "id": "6F237cFiiOx9",
    "outputId": "575734a0-118e-473f-bbb0-3d50e2df3c51",
    "scrolled": true
   },
   "outputs": [
    {
     "data": {
      "text/plain": [
       "Text(0.5, 1.0, 'Training and validation loss')"
      ]
     },
     "execution_count": 7,
     "metadata": {},
     "output_type": "execute_result"
    },
    {
     "data": {
      "image/png": "[encoded data removed]",
      "text/plain": [
       "<Figure size 640x480 with 1 Axes>"
      ]
     },
     "metadata": {},
     "output_type": "display_data"
    },
    {
     "data": {
      "image/png": "[encoded data removed]",
      "text/plain": [
       "<Figure size 640x480 with 1 Axes>"
      ]
     },
     "metadata": {},
     "output_type": "display_data"
    }
   ],
   "source": [
    "acc = history.history['acc']\n",
    "val_acc = history.history['val_acc']\n",
    "\n",
    "loss = history.history['loss']\n",
    "val_loss = history.history['val_loss']\n",
    "\n",
    "epochs = range(len(acc))\n",
    "\n",
    "plt.plot(epochs, acc)\n",
    "plt.plot(epochs, val_acc)\n",
    "plt.title('Training and validation accuracy')\n",
    "\n",
    "plt.figure()\n",
    "\n",
    "plt.plot(epochs, loss)\n",
    "plt.plot(epochs, val_loss)\n",
    "plt.title('Training and validation loss')"
   ]
  },
  {
   "cell_type": "code",
   "execution_count": 8,
   "metadata": {
    "id": "QUf-pwDunQBO"
   },
   "outputs": [],
   "source": [
    "def preprocess(file_path):\n",
    "    byte_img = tf.io.read_file(str(file_path))\n",
    "    # img  = tf.io.decode_jpeg(byte_img)\n",
    "    img = tf.image.decode_jpeg(byte_img)\n",
    "    img = tf.image.resize(img, (150, 150))\n",
    "    img=  img / 255.0\n",
    "    return img"
   ]
  },
  {
   "cell_type": "code",
   "execution_count": 9,
   "metadata": {
    "id": "TGYGc4oGmfOA"
   },
   "outputs": [],
   "source": [
    "\n",
    "def verify(model, detection_threshold, verification_threshold):\n",
    "    # Build results array\n",
    "    results = []\n",
    "    for file in os.listdir(os.path.join('Images', 'Test')):\n",
    "        for image in os.listdir(os.path.join('Images', 'Test', file)):\n",
    "        \n",
    "            # Images/Input_Image/input_image.jpeg\n",
    "            input_img = preprocess(os.path.join('Images/Input_Image', 'input_image.jpeg'))\n",
    "            validation_img = preprocess(os.path.join('Images', 'Test', file, image))\n",
    "            \n",
    "        # Make Predictions\n",
    "        result_input_img = model.predict(list(np.expand_dims([input_img], axis=1)))\n",
    "        result_validation_img = model.predict(list(np.expand_dims([validation_img], axis=1)))\n",
    "        # results.append(result)\n",
    "    # print(result_input_img, result_validation_img)\n",
    "\n",
    "    # Detection Threshold: Metric above which a prediciton is considered positive\n",
    "    detection = np.sum(np.array(result_input_img) > detection_threshold)\n",
    "    # print(\"detection: \" , detection)\n",
    "    # print(np.array(result_input_img))\n",
    "\n",
    "    # Verification Threshold: Proportion of positive predictions / total positive samples\n",
    "    verification = detection / len(os.listdir(os.path.join(\"Images\", 'Train/Bharat')))\n",
    "    # print(verification)\n",
    "    verified = verification > verification_threshold\n",
    "\n",
    "    return results, verified"
   ]
  },
  {
   "cell_type": "code",
   "execution_count": 10,
   "metadata": {},
   "outputs": [],
   "source": [
    "model.save(\"CNN_model.keras\")"
   ]
  },
  {
   "cell_type": "code",
   "execution_count": 13,
   "metadata": {
    "id": "oB6zBTZPDo0l"
   },
   "outputs": [
    {
     "name": "stdout",
     "output_type": "stream",
     "text": [
      "1/1 [==============================] - 0s 42ms/step\n",
      "1/1 [==============================] - 0s 45ms/step\n",
      "1/1 [==============================] - 0s 47ms/step\n",
      "1/1 [==============================] - 0s 44ms/step\n",
      "1/1 [==============================] - 0s 58ms/step\n",
      "1/1 [==============================] - 0s 42ms/step\n",
      "True\n",
      "False\n"
     ]
    }
   ],
   "source": [
    "import cv2\n",
    "import xlsxwriter\n",
    "import time\n",
    "import mediapipe as mp\n",
    "import os\n",
    "cap = cv2.VideoCapture(0)\n",
    "\n",
    "mpDraw = mp.solutions.drawing_utils\n",
    "mpFaceMesh = mp.solutions.holistic\n",
    "# FaceMesh =  mpFaceMesh.FaceMesh(max_num_faces=1)\n",
    "holistic_model = mpFaceMesh.Holistic(\n",
    "    min_tracking_confidence= 0.5,\n",
    "    min_detection_confidence=0.5\n",
    ")\n",
    "drawSpec = mpDraw.DrawingSpec(thickness=1, circle_radius=1)\n",
    "\n",
    "pTime = 0\n",
    "flag = False\n",
    "while True:\n",
    "    ret, frame = cap.read()\n",
    "    # frame = frame[120:120+250,200:200+250, :]\n",
    "    if not ret:\n",
    "        print(\"Error: Unable to capture frame from webcam.\")\n",
    "        break\n",
    "    \n",
    "    # FPS\n",
    "    cTime = time.time()\n",
    "    fps = 1/ (cTime - pTime)\n",
    "    pTime = cTime\n",
    "    cv2.putText(frame, f\"FPS: {int(fps)}\", (20, 70), cv2.FONT_HERSHEY_PLAIN, 2, (0, 255, 0), 3)\n",
    "\n",
    "    cv2.imshow('Face Detection', frame)\n",
    "    if cv2.waitKey(1) == ord('q'):\n",
    "        break\n",
    "    if cv2.waitKey(1) == ord('v'):\n",
    "        cv2.imwrite(os.path.join(\"Images\", \"Input_Image\", \"input_image.jpeg\"), frame)\n",
    "        input_frame = cv2.imread(\"Images\\\\Input_Image\\\\input_image.jpeg\")\n",
    "        imgRGB = cv2.cvtColor(input_frame, cv2.COLOR_BGR2RGB)\n",
    "        media_results = holistic_model.process(imgRGB)\n",
    "        if media_results.face_landmarks:\n",
    "            results, verified = verify(model, 0.01, 0.01)\n",
    "            print(verified)\n",
    "        else:\n",
    "            print(\"False\")\n",
    "    \n",
    "# name = input(\"Enter your name: \")\n",
    "# workbook = xlsxwriter.Workbook(f\"{name}.xlsx\")\n",
    "# worksheet = workbook.add_worksheet()\n",
    "\n",
    "# if flag:\n",
    "#     worksheet.write('Bharat', 'Present')\n",
    "# else:\n",
    "#     worksheet.write('Bharat', \"Absent\")\n",
    "# workbook.close()\n",
    "# print(\"Done\")\n",
    "cap.release()\n",
    "cv2.destroyAllWindows()"
   ]
  },
  {
   "cell_type": "code",
   "execution_count": null,
   "metadata": {},
   "outputs": [],
   "source": [
    "# import xlsxwriter module\n",
    "import xlsxwriter\n",
    "name = input(\"Enter your name: \")\n",
    "workbook = xlsxwriter.Workbook(f\"{name}.xlsx\")\n",
    "worksheet = workbook.add_worksheet()\n",
    "\n",
    "if flag:\n",
    "    worksheet.write('Bharat', 'Present')\n",
    "else:\n",
    "    worksheet.write('Bharat', \"Present\")\n",
    "workbook.close()\n"
   ]
  },
  {
   "cell_type": "code",
   "execution_count": null,
   "metadata": {},
   "outputs": [],
   "source": [
    "!pip install xlsxwriter"
   ]
  },
  {
   "cell_type": "code",
   "execution_count": null,
   "metadata": {},
   "outputs": [],
   "source": []
  }
 ],
 "metadata": {
  "colab": {
   "provenance": []
  },
  "kernelspec": {
   "display_name": "Python 3 (ipykernel)",
   "language": "python",
   "name": "python3"
  },
  "language_info": {
   "codemirror_mode": {
    "name": "ipython",
    "version": 3
   },
   "file_extension": ".py",
   "mimetype": "text/x-python",
   "name": "python",
   "nbconvert_exporter": "python",
   "pygments_lexer": "ipython3",
   "version": "3.11.7"
  }
 },
 "nbformat": 4,
 "nbformat_minor": 4
}
