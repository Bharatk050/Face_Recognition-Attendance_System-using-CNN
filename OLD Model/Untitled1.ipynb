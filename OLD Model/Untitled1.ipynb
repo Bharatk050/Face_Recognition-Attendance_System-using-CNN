{
 "cells": [
  {
   "cell_type": "code",
   "execution_count": 1,
   "id": "f02ac498-a001-49ae-8f19-e6354d246f3f",
   "metadata": {},
   "outputs": [
    {
     "ename": "NameError",
     "evalue": "name 'data_for_visualization' is not defined",
     "output_type": "error",
     "traceback": [
      "\u001b[1;31m---------------------------------------------------------------------------\u001b[0m",
      "\u001b[1;31mNameError\u001b[0m                                 Traceback (most recent call last)",
      "Cell \u001b[1;32mIn[1], line 1\u001b[0m\n\u001b[1;32m----> 1\u001b[0m Vdata \u001b[38;5;241m=\u001b[39m \u001b[43mdata_for_visualization\u001b[49m()\n\u001b[0;32m      2\u001b[0m cap \u001b[38;5;241m=\u001b[39m cv2\u001b[38;5;241m.\u001b[39mVideoCapture(\u001b[38;5;241m0\u001b[39m)\n\u001b[0;32m      3\u001b[0m detector \u001b[38;5;241m=\u001b[39m MTCNN()\n",
      "\u001b[1;31mNameError\u001b[0m: name 'data_for_visualization' is not defined"
     ]
    }
   ],
   "source": [
    "Vdata = data_for_visualization()\n",
    "cap = cv2.VideoCapture(0)\n",
    "detector = MTCNN()\n",
    "id = 1\n",
    "\n",
    "while True:\n",
    "    \n",
    "    ret, frame = cap.read()\n",
    "\n",
    "    for data in Vdata:\n",
    "        img_data = data[0]\n",
    "        new_data = img_data.reshape(50,50,1)\n",
    "        prediction = model.predict([new_data])[0]\n",
    "    \n",
    "        if np.argmax(prediction) == 0:\n",
    "            name = 'Bharat'\n",
    "        elif np.argmax(prediction) == 1:\n",
    "            name = 'Shyam'\n",
    "        else:\n",
    "            name = 'Pawan'\n",
    "         \n",
    "    frame_rgb = cv2.cvtColor(frame, cv2.COLOR_BGR2RGB)\n",
    "    # frame_gray = cv2.cvtColor(frame, cv2.COLOR_BGR2GRAY)\n",
    "    faces = detector.detect_faces(frame_rgb)\n",
    "    for face in faces:\n",
    "        x, y, w, h = face['box']\n",
    "        cv2.rectangle(frame, (x,y), (x+w, y+h), (0,255,0), 2)\n",
    "        image = frame[y:y+h, x:x+w]\n",
    "        face = cv2.resize(image, (200, 200))\n",
    "        cv2.putText(frame, name, (50, 50), cv2.FONT_HERSHEY_SIMPLEX, 1, (0,255,0), 2)\n",
    "    \n",
    "        cv2.imshow(\"Recognition\", frame)\n",
    "        img_id = 0\n",
    "        file_name = \"Stranger\"\n",
    "        if cv2.waitKey(1) == ord('v'):\n",
    "            img_id+=1\n",
    "            file_name_path = f\"visualization/{file_name}\" + \".\" + str(id) + \".\"+ str(img_id) + \".jpg\"\n",
    "            cv2.imwrite(file_name_path, face)\n",
    "        \n",
    "        if cv2.waitKey(1) & 0xFF == ord('q'):\n",
    "            break\n",
    "\n",
    "cap.release()\n",
    "cv2.destroyAllWindows()\n",
    "\n",
    "\"\"\"\n",
    "Need to aad a key to terminate the process.\n",
    "Need to aad key to take a screenshot and save it to the desired file location.\n",
    "\"\"\""
   ]
  },
  {
   "cell_type": "code",
   "execution_count": null,
   "id": "9e06260d-fd25-4bc4-8c3d-421f6047794b",
   "metadata": {},
   "outputs": [],
   "source": []
  }
 ],
 "metadata": {
  "kernelspec": {
   "display_name": "Python 3 (ipykernel)",
   "language": "python",
   "name": "python3"
  },
  "language_info": {
   "codemirror_mode": {
    "name": "ipython",
    "version": 3
   },
   "file_extension": ".py",
   "mimetype": "text/x-python",
   "name": "python",
   "nbconvert_exporter": "python",
   "pygments_lexer": "ipython3",
   "version": "3.11.7"
  }
 },
 "nbformat": 4,
 "nbformat_minor": 5
}
